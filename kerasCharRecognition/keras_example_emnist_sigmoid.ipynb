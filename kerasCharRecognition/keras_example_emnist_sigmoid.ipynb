{
 "cells": [
  {
   "cell_type": "markdown",
   "metadata": {
    "id": "USSV_OlCFKOD"
   },
   "source": [
    "# Training a neural network on MNIST with Keras\n",
    "\n",
    "This simple example demonstrates how to plug TensorFlow Datasets (TFDS) into a Keras model.\n"
   ]
  },
  {
   "cell_type": "markdown",
   "metadata": {
    "id": "J8y9ZkLXmAZc"
   },
   "source": [
    "Copyright 2020 The TensorFlow Datasets Authors, Licensed under the Apache License, Version 2.0"
   ]
  },
  {
   "cell_type": "markdown",
   "metadata": {
    "id": "OGw9EgE0tC0C"
   },
   "source": [
    "<table class=\"tfo-notebook-buttons\" align=\"left\">\n",
    "  <td>\n",
    "    <a target=\"_blank\" href=\"https://www.tensorflow.org/datasets/keras_example\"><img src=\"https://www.tensorflow.org/images/tf_logo_32px.png\" />View on TensorFlow.org</a>\n",
    "  </td>\n",
    "  <td>\n",
    "    <a target=\"_blank\" href=\"https://colab.research.google.com/github/tensorflow/datasets/blob/master/docs/keras_example.ipynb\"><img src=\"https://www.tensorflow.org/images/colab_logo_32px.png\" />Run in Google Colab</a>\n",
    "  </td>\n",
    "  <td>\n",
    "    <a target=\"_blank\" href=\"https://github.com/tensorflow/datasets/blob/master/docs/keras_example.ipynb\"><img src=\"https://www.tensorflow.org/images/GitHub-Mark-32px.png\" />View source on GitHub</a>\n",
    "  </td>\n",
    "  <td>\n",
    "    <a href=\"https://storage.googleapis.com/tensorflow_docs/datasets/docs/keras_example.ipynb\"><img src=\"https://www.tensorflow.org/images/download_logo_32px.png\" />Download notebook</a>\n",
    "  </td>\n",
    "</table>"
   ]
  },
  {
   "cell_type": "code",
   "execution_count": 1,
   "metadata": {
    "id": "TTBSvHcSLBzc",
    "tags": []
   },
   "outputs": [
    {
     "name": "stderr",
     "output_type": "stream",
     "text": [
      "2022-08-18 17:00:18.647052: W tensorflow/stream_executor/platform/default/dso_loader.cc:64] Could not load dynamic library 'libcudart.so.11.0'; dlerror: libcudart.so.11.0: cannot open shared object file: No such file or directory\n",
      "2022-08-18 17:00:18.647156: I tensorflow/stream_executor/cuda/cudart_stub.cc:29] Ignore above cudart dlerror if you do not have a GPU set up on your machine.\n",
      "/home/tim/Dokumente/Projects/jupyterLab/lib/python3.9/site-packages/tqdm/auto.py:22: TqdmWarning: IProgress not found. Please update jupyter and ipywidgets. See https://ipywidgets.readthedocs.io/en/stable/user_install.html\n",
      "  from .autonotebook import tqdm as notebook_tqdm\n"
     ]
    }
   ],
   "source": [
    "import tensorflow as tf\n",
    "import tensorflow_datasets as tfds"
   ]
  },
  {
   "cell_type": "markdown",
   "metadata": {
    "id": "VjI6VgOBf0v0"
   },
   "source": [
    "## Step 1: Create your input pipeline\n",
    "\n",
    "Start by building an efficient input pipeline using advices from:\n",
    "* The [Performance tips](https://www.tensorflow.org/datasets/performances) guide\n",
    "* The [Better performance with the `tf.data` API](https://www.tensorflow.org/guide/data_performance#optimize_performance) guide\n"
   ]
  },
  {
   "cell_type": "markdown",
   "metadata": {
    "id": "c3aH3vP_XLI8"
   },
   "source": [
    "### Load a dataset\n",
    "\n",
    "Load the MNIST dataset with the following arguments:\n",
    "\n",
    "* `shuffle_files=True`: The MNIST data is only stored in a single file, but for larger datasets with multiple files on disk, it's good practice to shuffle them when training.\n",
    "* `as_supervised=True`: Returns a tuple `(img, label)` instead of a dictionary `{'image': img, 'label': label}`."
   ]
  },
  {
   "cell_type": "code",
   "execution_count": 2,
   "metadata": {
    "id": "ZUMhCXhFXdHQ",
    "tags": []
   },
   "outputs": [
    {
     "name": "stderr",
     "output_type": "stream",
     "text": [
      "2022-08-18 17:00:27.520835: W tensorflow/stream_executor/platform/default/dso_loader.cc:64] Could not load dynamic library 'libcuda.so.1'; dlerror: libcuda.so.1: cannot open shared object file: No such file or directory\n",
      "2022-08-18 17:00:27.526494: W tensorflow/stream_executor/cuda/cuda_driver.cc:269] failed call to cuInit: UNKNOWN ERROR (303)\n",
      "2022-08-18 17:00:27.526621: I tensorflow/stream_executor/cuda/cuda_diagnostics.cc:156] kernel driver does not appear to be running on this host (VirtDebian): /proc/driver/nvidia/version does not exist\n",
      "2022-08-18 17:00:27.533277: I tensorflow/core/platform/cpu_feature_guard.cc:151] This TensorFlow binary is optimized with oneAPI Deep Neural Network Library (oneDNN) to use the following CPU instructions in performance-critical operations:  AVX2 FMA\n",
      "To enable them in other operations, rebuild TensorFlow with the appropriate compiler flags.\n"
     ]
    }
   ],
   "source": [
    "(ds_train, ds_test), ds_info = tfds.load(\n",
    "    'emnist',\n",
    "    split=['train', 'test'],\n",
    "    shuffle_files=True,\n",
    "    as_supervised=True,\n",
    "    with_info=True,\n",
    ")"
   ]
  },
  {
   "cell_type": "markdown",
   "metadata": {
    "id": "rgwCFAcWXQTx"
   },
   "source": [
    "### Build a training pipeline\n",
    "\n",
    "Apply the following transformations:\n",
    "\n",
    "* `tf.data.Dataset.map`: TFDS provide images of type `tf.uint8`, while the model expects `tf.float32`. Therefore, you need to normalize images.\n",
    "* `tf.data.Dataset.cache` As you fit the dataset in memory, cache it before shuffling for a better performance.<br/>\n",
    "__Note:__ Random transformations should be applied after caching.\n",
    "* `tf.data.Dataset.shuffle`: For true randomness, set the shuffle buffer to the full dataset size.<br/>\n",
    "__Note:__ For large datasets that can't fit in memory, use `buffer_size=1000` if your system allows it.\n",
    "* `tf.data.Dataset.batch`: Batch elements of the dataset after shuffling to get unique batches at each epoch.\n",
    "* `tf.data.Dataset.prefetch`: It is good practice to end the pipeline by prefetching [for performance](https://www.tensorflow.org/guide/data_performance#prefetching)."
   ]
  },
  {
   "cell_type": "code",
   "execution_count": 3,
   "metadata": {
    "id": "haykx2K9XgiI",
    "tags": []
   },
   "outputs": [],
   "source": [
    "def normalize_img(image, label):\n",
    "  \"\"\"Normalizes images: `uint8` -> `float32`.\"\"\"\n",
    "  return tf.cast(image, tf.float32) / 255., label\n",
    "\n",
    "ds_train = ds_train.map(\n",
    "    normalize_img, num_parallel_calls=tf.data.AUTOTUNE)\n",
    "ds_train = ds_train.cache()\n",
    "ds_train = ds_train.shuffle(ds_info.splits['train'].num_examples)\n",
    "ds_train = ds_train.batch(128)\n",
    "ds_train = ds_train.prefetch(tf.data.AUTOTUNE)"
   ]
  },
  {
   "cell_type": "markdown",
   "metadata": {
    "id": "RbsMy4X1XVFv"
   },
   "source": [
    "### Build an evaluation pipeline\n",
    "\n",
    "Your testing pipeline is similar to the training pipeline with small differences:\n",
    "\n",
    " * You don't need to call `tf.data.Dataset.shuffle`.\n",
    " * Caching is done after batching because batches can be the same between epochs."
   ]
  },
  {
   "cell_type": "code",
   "execution_count": 4,
   "metadata": {
    "id": "A0KjuDf7XiqY",
    "tags": []
   },
   "outputs": [],
   "source": [
    "ds_test = ds_test.map(\n",
    "    normalize_img, num_parallel_calls=tf.data.AUTOTUNE)\n",
    "ds_test = ds_test.batch(128)\n",
    "ds_test = ds_test.cache()\n",
    "ds_test = ds_test.prefetch(tf.data.AUTOTUNE)"
   ]
  },
  {
   "cell_type": "code",
   "execution_count": 5,
   "metadata": {},
   "outputs": [
    {
     "name": "stderr",
     "output_type": "stream",
     "text": [
      "2022-08-18 17:00:53.452612: I tensorflow/core/kernels/data/shuffle_dataset_op.cc:390] Filling up shuffle buffer (this may take a while): 15752 of 697932\n",
      "2022-08-18 17:01:03.456031: I tensorflow/core/kernels/data/shuffle_dataset_op.cc:390] Filling up shuffle buffer (this may take a while): 34462 of 697932\n",
      "2022-08-18 17:01:13.452395: I tensorflow/core/kernels/data/shuffle_dataset_op.cc:390] Filling up shuffle buffer (this may take a while): 51098 of 697932\n",
      "2022-08-18 17:01:23.452873: I tensorflow/core/kernels/data/shuffle_dataset_op.cc:390] Filling up shuffle buffer (this may take a while): 68724 of 697932\n",
      "2022-08-18 17:01:33.452400: I tensorflow/core/kernels/data/shuffle_dataset_op.cc:390] Filling up shuffle buffer (this may take a while): 86022 of 697932\n",
      "2022-08-18 17:01:43.454166: I tensorflow/core/kernels/data/shuffle_dataset_op.cc:390] Filling up shuffle buffer (this may take a while): 102312 of 697932\n",
      "2022-08-18 17:01:53.452961: I tensorflow/core/kernels/data/shuffle_dataset_op.cc:390] Filling up shuffle buffer (this may take a while): 118651 of 697932\n",
      "2022-08-18 17:02:03.452643: I tensorflow/core/kernels/data/shuffle_dataset_op.cc:390] Filling up shuffle buffer (this may take a while): 135173 of 697932\n",
      "2022-08-18 17:02:13.453408: I tensorflow/core/kernels/data/shuffle_dataset_op.cc:390] Filling up shuffle buffer (this may take a while): 151661 of 697932\n",
      "2022-08-18 17:02:23.454165: I tensorflow/core/kernels/data/shuffle_dataset_op.cc:390] Filling up shuffle buffer (this may take a while): 167829 of 697932\n",
      "2022-08-18 17:02:33.453065: I tensorflow/core/kernels/data/shuffle_dataset_op.cc:390] Filling up shuffle buffer (this may take a while): 183759 of 697932\n",
      "2022-08-18 17:02:43.453762: I tensorflow/core/kernels/data/shuffle_dataset_op.cc:390] Filling up shuffle buffer (this may take a while): 200278 of 697932\n",
      "2022-08-18 17:02:53.452531: I tensorflow/core/kernels/data/shuffle_dataset_op.cc:390] Filling up shuffle buffer (this may take a while): 220450 of 697932\n",
      "2022-08-18 17:03:03.452355: I tensorflow/core/kernels/data/shuffle_dataset_op.cc:390] Filling up shuffle buffer (this may take a while): 242909 of 697932\n",
      "2022-08-18 17:03:13.452397: I tensorflow/core/kernels/data/shuffle_dataset_op.cc:390] Filling up shuffle buffer (this may take a while): 263056 of 697932\n",
      "2022-08-18 17:03:23.452809: I tensorflow/core/kernels/data/shuffle_dataset_op.cc:390] Filling up shuffle buffer (this may take a while): 285759 of 697932\n",
      "2022-08-18 17:03:33.453075: I tensorflow/core/kernels/data/shuffle_dataset_op.cc:390] Filling up shuffle buffer (this may take a while): 307743 of 697932\n",
      "2022-08-18 17:03:43.452647: I tensorflow/core/kernels/data/shuffle_dataset_op.cc:390] Filling up shuffle buffer (this may take a while): 329791 of 697932\n",
      "2022-08-18 17:03:53.453197: I tensorflow/core/kernels/data/shuffle_dataset_op.cc:390] Filling up shuffle buffer (this may take a while): 348410 of 697932\n",
      "2022-08-18 17:04:03.452477: I tensorflow/core/kernels/data/shuffle_dataset_op.cc:390] Filling up shuffle buffer (this may take a while): 364686 of 697932\n",
      "2022-08-18 17:04:13.452870: I tensorflow/core/kernels/data/shuffle_dataset_op.cc:390] Filling up shuffle buffer (this may take a while): 380535 of 697932\n",
      "2022-08-18 17:04:23.452526: I tensorflow/core/kernels/data/shuffle_dataset_op.cc:390] Filling up shuffle buffer (this may take a while): 396187 of 697932\n",
      "2022-08-18 17:04:33.452565: I tensorflow/core/kernels/data/shuffle_dataset_op.cc:390] Filling up shuffle buffer (this may take a while): 410881 of 697932\n",
      "2022-08-18 17:04:43.452739: I tensorflow/core/kernels/data/shuffle_dataset_op.cc:390] Filling up shuffle buffer (this may take a while): 425973 of 697932\n",
      "2022-08-18 17:04:53.453873: I tensorflow/core/kernels/data/shuffle_dataset_op.cc:390] Filling up shuffle buffer (this may take a while): 440874 of 697932\n",
      "2022-08-18 17:05:03.452987: I tensorflow/core/kernels/data/shuffle_dataset_op.cc:390] Filling up shuffle buffer (this may take a while): 455627 of 697932\n",
      "2022-08-18 17:05:13.454024: I tensorflow/core/kernels/data/shuffle_dataset_op.cc:390] Filling up shuffle buffer (this may take a while): 471912 of 697932\n",
      "2022-08-18 17:05:23.454002: I tensorflow/core/kernels/data/shuffle_dataset_op.cc:390] Filling up shuffle buffer (this may take a while): 492399 of 697932\n",
      "2022-08-18 17:05:33.453190: I tensorflow/core/kernels/data/shuffle_dataset_op.cc:390] Filling up shuffle buffer (this may take a while): 512847 of 697932\n",
      "2022-08-18 17:05:43.460147: I tensorflow/core/kernels/data/shuffle_dataset_op.cc:390] Filling up shuffle buffer (this may take a while): 533619 of 697932\n",
      "2022-08-18 17:05:53.452516: I tensorflow/core/kernels/data/shuffle_dataset_op.cc:390] Filling up shuffle buffer (this may take a while): 554265 of 697932\n",
      "2022-08-18 17:06:03.452848: I tensorflow/core/kernels/data/shuffle_dataset_op.cc:390] Filling up shuffle buffer (this may take a while): 575103 of 697932\n",
      "2022-08-18 17:06:13.452710: I tensorflow/core/kernels/data/shuffle_dataset_op.cc:390] Filling up shuffle buffer (this may take a while): 593295 of 697932\n",
      "2022-08-18 17:06:23.454285: I tensorflow/core/kernels/data/shuffle_dataset_op.cc:390] Filling up shuffle buffer (this may take a while): 608831 of 697932\n",
      "2022-08-18 17:06:33.452612: I tensorflow/core/kernels/data/shuffle_dataset_op.cc:390] Filling up shuffle buffer (this may take a while): 625786 of 697932\n",
      "2022-08-18 17:06:43.452543: I tensorflow/core/kernels/data/shuffle_dataset_op.cc:390] Filling up shuffle buffer (this may take a while): 642698 of 697932\n",
      "2022-08-18 17:06:53.457982: I tensorflow/core/kernels/data/shuffle_dataset_op.cc:390] Filling up shuffle buffer (this may take a while): 659354 of 697932\n",
      "2022-08-18 17:07:03.452668: I tensorflow/core/kernels/data/shuffle_dataset_op.cc:390] Filling up shuffle buffer (this may take a while): 675777 of 697932\n",
      "2022-08-18 17:07:13.461678: I tensorflow/core/kernels/data/shuffle_dataset_op.cc:390] Filling up shuffle buffer (this may take a while): 692891 of 697932\n",
      "2022-08-18 17:07:16.471729: I tensorflow/core/kernels/data/shuffle_dataset_op.cc:415] Shuffle buffer filled.\n"
     ]
    },
    {
     "name": "stdout",
     "output_type": "stream",
     "text": [
      "<class 'tuple'>\n",
      "(28, 28, 1)\n",
      "(128,)\n"
     ]
    },
    {
     "data": {
      "image/png": "[encoded data removed]",
      "text/plain": [
       "<Figure size 432x288 with 1 Axes>"
      ]
     },
     "metadata": {
      "needs_background": "light"
     },
     "output_type": "display_data"
    },
    {
     "name": "stdout",
     "output_type": "stream",
     "text": [
      "15 F\n"
     ]
    }
   ],
   "source": [
    "import matplotlib.pyplot as plt\n",
    "charList = ['0','1','2','3','4','5','6','7','8','9',\n",
    "'A','B','C','D','E','F','G','H','I','J','K','L','M','N','O','P','Q','R','S','T','U','V','W','X','Y','Z',\n",
    "'a','b','c','d','e','f','g','h','i','j','k','l','m','n','o','p','q','r','s','t','u','v','w','x','y','z']\n",
    "\n",
    "\n",
    "#print(ds_train.inspect)\n",
    "#dataset = tf.data.Dataset.from_tensor_slices([1, 2, 3])\n",
    "for element in ds_train:\n",
    "    #print(element)\n",
    "    break\n",
    "for element in ds_train.as_numpy_iterator():\n",
    "    print(type(element))\n",
    "    element1, element2 = element\n",
    "    print(element1[0].shape)\n",
    "    print(element2.shape)\n",
    "    plt.imshow(element1[0], cmap='gray') #Bilder sind gedreht und gespiegelt\n",
    "    plt.show()\n",
    "    print(element2[0], charList[element2[0]])\n",
    "    break\n"
   ]
  },
  {
   "cell_type": "markdown",
   "metadata": {
    "id": "nTFoji3INMEM"
   },
   "source": [
    "## Step 2: Create and train the model\n",
    "\n",
    "Plug the TFDS input pipeline into a simple Keras model, compile the model, and train it."
   ]
  },
  {
   "cell_type": "code",
   "execution_count": 6,
   "metadata": {
    "id": "XWqxdmS1NLKA",
    "tags": []
   },
   "outputs": [
    {
     "name": "stdout",
     "output_type": "stream",
     "text": [
      "Epoch 1/30\n",
      "5452/5453 [============================>.] - ETA: 0s - loss: 0.7806 - sparse_categorical_accuracy: 0.7672"
     ]
    },
    {
     "name": "stderr",
     "output_type": "stream",
     "text": [
      "2022-08-18 17:11:21.772456: W tensorflow/python/util/util.cc:368] Sets are not currently considered sequences, but this may change in the future, so consider avoiding using them.\n"
     ]
    },
    {
     "name": "stdout",
     "output_type": "stream",
     "text": [
      "INFO:tensorflow:Assets written to: tfKerasCharsEMNISTSigmoid/assets\n"
     ]
    },
    {
     "name": "stderr",
     "output_type": "stream",
     "text": [
      "INFO:tensorflow:Assets written to: tfKerasCharsEMNISTSigmoid/assets\n"
     ]
    },
    {
     "name": "stdout",
     "output_type": "stream",
     "text": [
      "5453/5453 [==============================] - 122s 22ms/step - loss: 0.7806 - sparse_categorical_accuracy: 0.7672 - val_loss: 0.5992 - val_sparse_categorical_accuracy: 0.8095\n",
      "Epoch 2/30\n",
      "5449/5453 [============================>.] - ETA: 0s - loss: 0.5734 - sparse_categorical_accuracy: 0.8164INFO:tensorflow:Assets written to: tfKerasCharsEMNISTSigmoid/assets\n"
     ]
    },
    {
     "name": "stderr",
     "output_type": "stream",
     "text": [
      "INFO:tensorflow:Assets written to: tfKerasCharsEMNISTSigmoid/assets\n"
     ]
    },
    {
     "name": "stdout",
     "output_type": "stream",
     "text": [
      "5453/5453 [==============================] - 94s 17ms/step - loss: 0.5734 - sparse_categorical_accuracy: 0.8164 - val_loss: 0.5591 - val_sparse_categorical_accuracy: 0.8206\n",
      "Epoch 3/30\n",
      "5453/5453 [==============================] - 86s 15ms/step - loss: 0.5497 - sparse_categorical_accuracy: 0.8226 - val_loss: 0.5746 - val_sparse_categorical_accuracy: 0.8201\n",
      "Epoch 4/30\n",
      "5453/5453 [==============================] - 93s 17ms/step - loss: 0.5437 - sparse_categorical_accuracy: 0.8250 - val_loss: 0.5667 - val_sparse_categorical_accuracy: 0.8203\n",
      "Epoch 5/30\n",
      "5453/5453 [==============================] - 96s 17ms/step - loss: 0.5438 - sparse_categorical_accuracy: 0.8253 - val_loss: 0.5646 - val_sparse_categorical_accuracy: 0.8220\n",
      "Epoch 6/30\n",
      "5453/5453 [==============================] - 88s 16ms/step - loss: 0.5488 - sparse_categorical_accuracy: 0.8248 - val_loss: 0.5811 - val_sparse_categorical_accuracy: 0.8168\n",
      "Epoch 7/30\n",
      "5453/5453 [==============================] - 85s 15ms/step - loss: 0.5549 - sparse_categorical_accuracy: 0.8238 - val_loss: 0.5939 - val_sparse_categorical_accuracy: 0.8182\n",
      "Epoch 8/30\n",
      "5453/5453 [==============================] - 87s 16ms/step - loss: 0.5621 - sparse_categorical_accuracy: 0.8227 - val_loss: 0.6199 - val_sparse_categorical_accuracy: 0.8110\n",
      "Epoch 9/30\n",
      "5453/5453 [==============================] - 92s 17ms/step - loss: 0.5689 - sparse_categorical_accuracy: 0.8218 - val_loss: 0.6225 - val_sparse_categorical_accuracy: 0.8150\n",
      "Epoch 10/30\n",
      "5453/5453 [==============================] - 86s 15ms/step - loss: 0.5760 - sparse_categorical_accuracy: 0.8205 - val_loss: 0.6224 - val_sparse_categorical_accuracy: 0.8135\n",
      "Epoch 11/30\n",
      "5453/5453 [==============================] - 92s 16ms/step - loss: 0.5828 - sparse_categorical_accuracy: 0.8191 - val_loss: 0.6405 - val_sparse_categorical_accuracy: 0.8113\n",
      "Epoch 12/30\n",
      "5453/5453 [==============================] - 80s 14ms/step - loss: 0.5892 - sparse_categorical_accuracy: 0.8179 - val_loss: 0.6587 - val_sparse_categorical_accuracy: 0.8151\n",
      "Epoch 13/30\n",
      "5453/5453 [==============================] - 75s 13ms/step - loss: 0.5958 - sparse_categorical_accuracy: 0.8174 - val_loss: 0.6566 - val_sparse_categorical_accuracy: 0.8040\n",
      "Epoch 14/30\n",
      "5453/5453 [==============================] - 68s 12ms/step - loss: 0.6034 - sparse_categorical_accuracy: 0.8160 - val_loss: 0.6627 - val_sparse_categorical_accuracy: 0.8068\n",
      "Epoch 15/30\n",
      "5453/5453 [==============================] - 68s 12ms/step - loss: 0.6096 - sparse_categorical_accuracy: 0.8150 - val_loss: 0.6911 - val_sparse_categorical_accuracy: 0.8029\n",
      "Epoch 16/30\n",
      "5453/5453 [==============================] - 64s 12ms/step - loss: 0.6142 - sparse_categorical_accuracy: 0.8145 - val_loss: 0.6854 - val_sparse_categorical_accuracy: 0.8018\n",
      "Epoch 17/30\n",
      "5453/5453 [==============================] - 61s 11ms/step - loss: 0.6204 - sparse_categorical_accuracy: 0.8135 - val_loss: 0.7054 - val_sparse_categorical_accuracy: 0.7978\n",
      "Epoch 18/30\n",
      "5453/5453 [==============================] - 61s 11ms/step - loss: 0.6259 - sparse_categorical_accuracy: 0.8124 - val_loss: 0.7054 - val_sparse_categorical_accuracy: 0.8086\n",
      "Epoch 19/30\n",
      "5453/5453 [==============================] - 61s 11ms/step - loss: 0.6335 - sparse_categorical_accuracy: 0.8116 - val_loss: 0.7622 - val_sparse_categorical_accuracy: 0.7776\n",
      "Epoch 20/30\n",
      "5453/5453 [==============================] - 60s 11ms/step - loss: 0.6395 - sparse_categorical_accuracy: 0.8108 - val_loss: 0.7260 - val_sparse_categorical_accuracy: 0.8016\n",
      "Epoch 21/30\n",
      "5453/5453 [==============================] - 60s 11ms/step - loss: 0.6454 - sparse_categorical_accuracy: 0.8103 - val_loss: 0.7376 - val_sparse_categorical_accuracy: 0.7956\n",
      "Epoch 22/30\n",
      "5453/5453 [==============================] - 71s 13ms/step - loss: 0.6504 - sparse_categorical_accuracy: 0.8098 - val_loss: 0.7474 - val_sparse_categorical_accuracy: 0.7935\n",
      "Epoch 23/30\n",
      "5453/5453 [==============================] - 73s 13ms/step - loss: 0.6556 - sparse_categorical_accuracy: 0.8085 - val_loss: 0.7525 - val_sparse_categorical_accuracy: 0.7994\n",
      "Epoch 24/30\n",
      "5453/5453 [==============================] - 74s 13ms/step - loss: 0.6615 - sparse_categorical_accuracy: 0.8074 - val_loss: 0.7386 - val_sparse_categorical_accuracy: 0.7974\n",
      "Epoch 25/30\n",
      "5453/5453 [==============================] - 72s 13ms/step - loss: 0.6670 - sparse_categorical_accuracy: 0.8066 - val_loss: 0.7597 - val_sparse_categorical_accuracy: 0.8020\n",
      "Epoch 26/30\n",
      "5453/5453 [==============================] - 74s 13ms/step - loss: 0.6729 - sparse_categorical_accuracy: 0.8066 - val_loss: 0.7698 - val_sparse_categorical_accuracy: 0.7954\n",
      "Epoch 27/30\n",
      "5453/5453 [==============================] - 69s 12ms/step - loss: 0.6782 - sparse_categorical_accuracy: 0.8053 - val_loss: 0.7833 - val_sparse_categorical_accuracy: 0.7980\n",
      "Epoch 28/30\n",
      "5453/5453 [==============================] - 72s 13ms/step - loss: 0.6812 - sparse_categorical_accuracy: 0.8048 - val_loss: 0.7851 - val_sparse_categorical_accuracy: 0.7898\n",
      "Epoch 29/30\n",
      "5453/5453 [==============================] - 71s 13ms/step - loss: 0.6859 - sparse_categorical_accuracy: 0.8045 - val_loss: 0.7802 - val_sparse_categorical_accuracy: 0.7967\n",
      "Epoch 30/30\n",
      "5453/5453 [==============================] - 74s 13ms/step - loss: 0.6907 - sparse_categorical_accuracy: 0.8041 - val_loss: 0.8091 - val_sparse_categorical_accuracy: 0.7873\n"
     ]
    },
    {
     "data": {
      "text/plain": [
       "<keras.callbacks.History at 0x7fe3496b9550>"
      ]
     },
     "execution_count": 6,
     "metadata": {},
     "output_type": "execute_result"
    }
   ],
   "source": [
    "model = tf.keras.models.Sequential([\n",
    "  tf.keras.layers.Flatten(input_shape=(28, 28)),\n",
    "  tf.keras.layers.Dense(128, activation='relu'),\n",
    "  tf.keras.layers.Dense(62, \"sigmoid\")\n",
    "])\n",
    "\n",
    "model.compile(\n",
    "    optimizer=tf.keras.optimizers.RMSprop(),\n",
    "    #optimizer=tf.keras.optimizers.Adam(0.001),\n",
    "    #loss=tf.keras.losses.SparseCategoricalCrossentropy(from_logits=True),\n",
    "    loss=tf.keras.losses.SparseCategoricalCrossentropy(),\n",
    "    metrics=[tf.keras.metrics.SparseCategoricalAccuracy()],\n",
    ")\n",
    "\n",
    "model.fit(\n",
    "    ds_train,\n",
    "    epochs=30,\n",
    "    validation_data=ds_test,\n",
    "    callbacks=[tf.keras.callbacks.ModelCheckpoint(filepath='tfKerasCharsEMNISTSigmoid', save_best_only=True, monitor=\"val_loss\"),\n",
    "               tf.keras.callbacks.EarlyStopping(monitor='val_loss', patience=30, restore_best_weights=True)]\n",
    ")"
   ]
  },
  {
   "cell_type": "code",
   "execution_count": 7,
   "metadata": {},
   "outputs": [
    {
     "name": "stderr",
     "output_type": "stream",
     "text": [
      "2022-08-18 17:55:26.548270: W tensorflow/compiler/mlir/lite/python/tf_tfl_flatbuffer_helpers.cc:357] Ignored output_format.\n",
      "2022-08-18 17:55:26.548336: W tensorflow/compiler/mlir/lite/python/tf_tfl_flatbuffer_helpers.cc:360] Ignored drop_control_dependency.\n",
      "WARNING:absl:Buffer deduplication procedure will be skipped when flatbuffer library is not properly loaded\n",
      "2022-08-18 17:55:26.549246: I tensorflow/cc/saved_model/reader.cc:43] Reading SavedModel from: tfKerasCharsEMNISTSigmoid\n",
      "2022-08-18 17:55:26.550519: I tensorflow/cc/saved_model/reader.cc:78] Reading meta graph with tags { serve }\n",
      "2022-08-18 17:55:26.550560: I tensorflow/cc/saved_model/reader.cc:119] Reading SavedModel debug info (if present) from: tfKerasCharsEMNISTSigmoid\n",
      "2022-08-18 17:55:26.555152: I tensorflow/cc/saved_model/loader.cc:228] Restoring SavedModel bundle.\n",
      "2022-08-18 17:55:26.629378: I tensorflow/cc/saved_model/loader.cc:212] Running initialization op on SavedModel bundle at path: tfKerasCharsEMNISTSigmoid\n",
      "2022-08-18 17:55:26.655962: I tensorflow/cc/saved_model/loader.cc:301] SavedModel load for tags { serve }; Status: success: OK. Took 106716 microseconds.\n",
      "2022-08-18 17:55:26.683187: I tensorflow/compiler/mlir/tensorflow/utils/dump_mlir_util.cc:237] disabling MLIR crash reproducer, set env var `MLIR_CRASH_REPRODUCER_DIRECTORY` to enable.\n"
     ]
    }
   ],
   "source": [
    "converter = tf.lite.TFLiteConverter.from_saved_model('tfKerasCharsEMNISTSigmoid')\n",
    "tflite_model = converter.convert()\n",
    "\n",
    "with open(\"tfKerasCharsEMNISTSigmoid.tflite\", \"wb\") as fp:\n",
    "    fp.write(tflite_model)"
   ]
  },
  {
   "cell_type": "code",
   "execution_count": 8,
   "metadata": {},
   "outputs": [
    {
     "name": "stdout",
     "output_type": "stream",
     "text": [
      "Model: \"sequential\"\n",
      "_________________________________________________________________\n",
      " Layer (type)                Output Shape              Param #   \n",
      "=================================================================\n",
      " flatten (Flatten)           (None, 784)               0         \n",
      "                                                                 \n",
      " dense (Dense)               (None, 128)               100480    \n",
      "                                                                 \n",
      " dense_1 (Dense)             (None, 62)                7998      \n",
      "                                                                 \n",
      "=================================================================\n",
      "Total params: 108,478\n",
      "Trainable params: 108,478\n",
      "Non-trainable params: 0\n",
      "_________________________________________________________________\n",
      "Element1 Shape (28, 28, 1)\n",
      "Ergebnis Shape (1, 62)\n",
      "Zeichen unmapped 0 Zeichen mapped 0 Ergebnis 5.089538e-07\n",
      "Element 0\n"
     ]
    },
    {
     "data": {
      "image/png": "[encoded data removed]",
      "text/plain": [
       "<Figure size 432x288 with 1 Axes>"
      ]
     },
     "metadata": {
      "needs_background": "light"
     },
     "output_type": "display_data"
    }
   ],
   "source": [
    "import numpy as np\n",
    "import tensorflow as tf\n",
    "\n",
    "charList = ['0','1','2','3','4','5','6','7','8','9',\n",
    "'A','B','C','D','E','F','G','H','I','J','K','L','M','N','O','P','Q','R','S','T','U','V','W','X','Y','Z',\n",
    "'a','b','c','d','e','f','g','h','i','j','k','l','m','n','o','p','q','r','s','t','u','v','w','x','y','z']\n",
    "\n",
    "model = tf.keras.models.load_model('tfKerasCharsEMNISTSigmoid')\n",
    "model.summary()\n",
    "\n",
    "for element in ds_train.as_numpy_iterator():\n",
    "    element1, element2 = element\n",
    "    ele = np.resize(element1[0],(1,28,28,1))\n",
    "    erg = model.predict(ele)\n",
    "    print(\"Element1 Shape\", element1[0].shape)\n",
    "    print(\"Ergebnis Shape\", erg.shape)\n",
    "    print(\"Zeichen unmapped\", np.argmax(erg), \"Zeichen mapped\", charList[np.argmax(erg)], \"Ergebnis\", erg[0][np.argmax(erg)])\n",
    "    print(\"Element\", element2[0])\n",
    "    plt.imshow(element1[0], cmap='gray') #Bilder sind gedreht und gespiegelt\n",
    "    plt.show()\n",
    "    break"
   ]
  },
  {
   "cell_type": "code",
   "execution_count": 9,
   "metadata": {},
   "outputs": [
    {
     "name": "stdout",
     "output_type": "stream",
     "text": [
      "Model: \"sequential\"\n",
      "_________________________________________________________________\n",
      " Layer (type)                Output Shape              Param #   \n",
      "=================================================================\n",
      " flatten (Flatten)           (None, 784)               0         \n",
      "                                                                 \n",
      " dense (Dense)               (None, 128)               100480    \n",
      "                                                                 \n",
      " dense_1 (Dense)             (None, 62)                7998      \n",
      "                                                                 \n",
      "=================================================================\n",
      "Total params: 108,478\n",
      "Trainable params: 108,478\n",
      "Non-trainable params: 0\n",
      "_________________________________________________________________\n",
      "(1, 28, 28)\n",
      "[[0. 0. 0. 0. 0. 0. 0. 0. 0. 0. 0. 0. 0. 0. 0. 0. 0. 0. 0. 0. 0. 0. 0. 0.\n",
      "  0. 0. 0. 0. 0. 0. 0. 0. 0. 0. 0. 0. 0. 0. 0. 0. 0. 0. 0. 0. 0. 0. 0. 0.\n",
      "  0. 0. 0. 0. 0. 0. 0. 0. 0. 0. 0. 0. 0. 0.]]\n"
     ]
    }
   ],
   "source": [
    "import numpy as np\n",
    "import tensorflow as tf\n",
    "\n",
    "model = tf.keras.models.load_model('tfKerasCharsEMNISTSigmoid')\n",
    "model.summary()\n",
    "\n",
    "data = np.random.randint(0, 255, (1, 28, 28))/255\n",
    "\n",
    "print(data.shape)\n",
    "#print(data[1][1])\n",
    "\n",
    "erg = model.predict(data)\n",
    "#print(np.argmax(erg))\n",
    "print(erg)"
   ]
  },
  {
   "cell_type": "code",
   "execution_count": 10,
   "metadata": {},
   "outputs": [
    {
     "name": "stdout",
     "output_type": "stream",
     "text": [
      "[[0. 0. 0. 0. 0. 0. 0. 0. 0. 0. 0. 0. 0. 0. 0. 0. 0. 0. 0. 0. 0. 0. 0. 0.\n",
      "  0. 0. 0. 0. 0. 0. 0. 0. 0. 0. 0. 0. 0. 0. 0. 0. 0. 0. 0. 0. 0. 0. 0. 0.\n",
      "  0. 0. 0. 0. 0. 0. 0. 0. 0. 0. 0. 0. 0. 0.]]\n"
     ]
    },
    {
     "name": "stderr",
     "output_type": "stream",
     "text": [
      "INFO: Created TensorFlow Lite XNNPACK delegate for CPU.\n"
     ]
    }
   ],
   "source": [
    "import numpy as np\n",
    "\n",
    "interpreter = tf.lite.Interpreter(model_path=\"tfKerasCharsEMNISTSigmoid.tflite\")\n",
    "interpreter.allocate_tensors()\n",
    "input_details = interpreter.get_input_details()\n",
    "output_details = interpreter.get_output_details()\n",
    "\n",
    "interpreter.set_tensor(input_details[0]['index'], data.astype(np.float32))\n",
    "interpreter.invoke()\n",
    "output_data = interpreter.get_tensor(output_details[0]['index'])\n",
    "print(output_data)"
   ]
  }
 ],
 "metadata": {
  "colab": {
   "collapsed_sections": [],
   "name": "tensorflow/datasets",
   "private_outputs": true,
   "provenance": [],
   "toc_visible": true
  },
  "kernelspec": {
   "display_name": "Python 3 (ipykernel)",
   "language": "python",
   "name": "python3"
  },
  "language_info": {
   "codemirror_mode": {
    "name": "ipython",
    "version": 3
   },
   "file_extension": ".py",
   "mimetype": "text/x-python",
   "name": "python",
   "nbconvert_exporter": "python",
   "pygments_lexer": "ipython3",
   "version": "3.9.2"
  }
 },
 "nbformat": 4,
 "nbformat_minor": 4
}
