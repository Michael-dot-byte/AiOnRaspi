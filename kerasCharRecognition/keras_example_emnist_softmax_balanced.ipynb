{
 "cells": [
  {
   "cell_type": "markdown",
   "metadata": {
    "id": "USSV_OlCFKOD"
   },
   "source": [
    "# Training a neural network on MNIST with Keras\n",
    "\n",
    "This simple example demonstrates how to plug TensorFlow Datasets (TFDS) into a Keras model.\n"
   ]
  },
  {
   "cell_type": "markdown",
   "metadata": {
    "id": "J8y9ZkLXmAZc"
   },
   "source": [
    "Copyright 2020 The TensorFlow Datasets Authors, Licensed under the Apache License, Version 2.0"
   ]
  },
  {
   "cell_type": "markdown",
   "metadata": {
    "id": "OGw9EgE0tC0C"
   },
   "source": [
    "<table class=\"tfo-notebook-buttons\" align=\"left\">\n",
    "  <td>\n",
    "    <a target=\"_blank\" href=\"https://www.tensorflow.org/datasets/keras_example\"><img src=\"https://www.tensorflow.org/images/tf_logo_32px.png\" />View on TensorFlow.org</a>\n",
    "  </td>\n",
    "  <td>\n",
    "    <a target=\"_blank\" href=\"https://colab.research.google.com/github/tensorflow/datasets/blob/master/docs/keras_example.ipynb\"><img src=\"https://www.tensorflow.org/images/colab_logo_32px.png\" />Run in Google Colab</a>\n",
    "  </td>\n",
    "  <td>\n",
    "    <a target=\"_blank\" href=\"https://github.com/tensorflow/datasets/blob/master/docs/keras_example.ipynb\"><img src=\"https://www.tensorflow.org/images/GitHub-Mark-32px.png\" />View source on GitHub</a>\n",
    "  </td>\n",
    "  <td>\n",
    "    <a href=\"https://storage.googleapis.com/tensorflow_docs/datasets/docs/keras_example.ipynb\"><img src=\"https://www.tensorflow.org/images/download_logo_32px.png\" />Download notebook</a>\n",
    "  </td>\n",
    "</table>"
   ]
  },
  {
   "cell_type": "code",
   "execution_count": 1,
   "metadata": {
    "id": "TTBSvHcSLBzc",
    "tags": []
   },
   "outputs": [
    {
     "name": "stderr",
     "output_type": "stream",
     "text": [
      "2022-09-02 15:42:24.838301: W tensorflow/stream_executor/platform/default/dso_loader.cc:64] Could not load dynamic library 'libcudart.so.11.0'; dlerror: libcudart.so.11.0: cannot open shared object file: No such file or directory\n",
      "2022-09-02 15:42:24.838433: I tensorflow/stream_executor/cuda/cudart_stub.cc:29] Ignore above cudart dlerror if you do not have a GPU set up on your machine.\n",
      "/home/tim/Dokumente/Projects/jupyterLab/lib/python3.9/site-packages/tqdm/auto.py:22: TqdmWarning: IProgress not found. Please update jupyter and ipywidgets. See https://ipywidgets.readthedocs.io/en/stable/user_install.html\n",
      "  from .autonotebook import tqdm as notebook_tqdm\n"
     ]
    }
   ],
   "source": [
    "import tensorflow as tf\n",
    "import tensorflow_datasets as tfds\n",
    "import matplotlib.pyplot as plt\n",
    "import numpy as np\n",
    "from tensorflow.keras.utils import to_categorical"
   ]
  },
  {
   "cell_type": "markdown",
   "metadata": {
    "id": "VjI6VgOBf0v0"
   },
   "source": [
    "## Step 1: Create your input pipeline\n",
    "\n",
    "Start by building an efficient input pipeline using advices from:\n",
    "* The [Performance tips](https://www.tensorflow.org/datasets/performances) guide\n",
    "* The [Better performance with the `tf.data` API](https://www.tensorflow.org/guide/data_performance#optimize_performance) guide\n"
   ]
  },
  {
   "cell_type": "markdown",
   "metadata": {
    "id": "c3aH3vP_XLI8"
   },
   "source": [
    "### Load a dataset\n",
    "\n",
    "Load the MNIST dataset with the following arguments:\n",
    "\n",
    "* `shuffle_files=True`: The MNIST data is only stored in a single file, but for larger datasets with multiple files on disk, it's good practice to shuffle them when training.\n",
    "* `as_supervised=True`: Returns a tuple `(img, label)` instead of a dictionary `{'image': img, 'label': label}`."
   ]
  },
  {
   "cell_type": "code",
   "execution_count": 2,
   "metadata": {
    "id": "ZUMhCXhFXdHQ",
    "tags": []
   },
   "outputs": [],
   "source": [
    "#(ds_train, ds_test), ds_info = tfds.load(\n",
    "#    'emnist',\n",
    "#    split=['train', 'test'],\n",
    "#    shuffle_files=True,\n",
    "#    as_supervised=True,\n",
    "#    with_info=True,\n",
    "#)\n",
    "charList = ['0','1','2','3','4','5','6','7','8','9',\n",
    "'A','B','C','D','E','F','G','H','I','J','K','L','M','N','O','P','Q','R','S','T','U','V','W','X','Y','Z',\n",
    "'a','b','c','d','e','f','g','h','i','j','k','l','m','n','o','p','q','r','s','t','u','v','w','x','y','z']\n",
    "\n",
    "base_labeldImages = []\n",
    "\n",
    "with open('archive/emnist-balanced-train.csv', 'r') as fp:\n",
    "    lines = fp.read().splitlines()\n",
    "    for line in lines:\n",
    "        base_labeldImages.append(line.split(','))\n",
    "        \n"
   ]
  },
  {
   "cell_type": "code",
   "execution_count": 3,
   "metadata": {},
   "outputs": [],
   "source": [
    "#Shuffle data\n",
    "\n",
    "np.random.shuffle(base_labeldImages)"
   ]
  },
  {
   "cell_type": "code",
   "execution_count": 4,
   "metadata": {},
   "outputs": [],
   "source": [
    "base_labels = []\n",
    "base_images = []    \n",
    "\n",
    "#separate labels and images\n",
    "for base_labeldImage in base_labeldImages:\n",
    "    base_labels.append(base_labeldImage[0])\n",
    "    base_images.append(np.resize(base_labeldImage[1:], (28,28)).astype(np.float32))\n",
    "\n"
   ]
  },
  {
   "cell_type": "code",
   "execution_count": 5,
   "metadata": {},
   "outputs": [
    {
     "data": {
      "image/png": "[encoded data removed]",
      "text/plain": [
       "<Figure size 432x288 with 1 Axes>"
      ]
     },
     "metadata": {
      "needs_background": "light"
     },
     "output_type": "display_data"
    },
    {
     "name": "stdout",
     "output_type": "stream",
     "text": [
      "E\n"
     ]
    }
   ],
   "source": [
    "image = 3\n",
    "plt.imshow(base_images[image], cmap='gray') #Bilder sind gedreht und gespiegelt\n",
    "plt.show()\n",
    "print(charList[int(base_labels[image])])"
   ]
  },
  {
   "cell_type": "code",
   "execution_count": 6,
   "metadata": {},
   "outputs": [
    {
     "name": "stdout",
     "output_type": "stream",
     "text": [
      "[0. 0. 0. 0. 0. 0. 0. 0. 0. 0. 0. 0. 0. 0. 1. 0. 0. 0. 0. 0. 0. 0. 0. 0.\n",
      " 0. 0. 0. 0. 0. 0. 0. 0. 0. 0. 0. 0. 0. 0. 0. 0. 0. 0. 0. 0. 0. 0. 0.]\n",
      "(112800, 47)\n"
     ]
    }
   ],
   "source": [
    "#one-hot-encoding lables\n",
    "\n",
    "base_labelsEncoded = to_categorical(base_labels)\n",
    "print(base_labelsEncoded[3])\n",
    "print(base_labelsEncoded.shape)"
   ]
  },
  {
   "cell_type": "code",
   "execution_count": 7,
   "metadata": {},
   "outputs": [],
   "source": [
    "base_labelsEncoded = base_labels"
   ]
  },
  {
   "cell_type": "code",
   "execution_count": 8,
   "metadata": {},
   "outputs": [],
   "source": [
    "#Split data into train, validation, test data\n",
    "\n",
    "dataLength=len(base_labels)\n",
    "\n",
    "train_labels = base_labelsEncoded[:int(dataLength*0.7)]\n",
    "train_images = base_images[:int(dataLength*0.7)]\n",
    "validation_labels = base_labelsEncoded[int(dataLength*0.7):int(dataLength*0.9)]\n",
    "validation_images = base_images[int(dataLength*0.7):int(dataLength*0.9)]\n",
    "test_labels = base_labelsEncoded[int(dataLength*0.9):]\n",
    "test_images = base_images[int(dataLength*0.9):]"
   ]
  },
  {
   "cell_type": "markdown",
   "metadata": {
    "id": "rgwCFAcWXQTx"
   },
   "source": [
    "### Build a training pipeline\n",
    "\n",
    "Apply the following transformations:\n",
    "\n",
    "* `tf.data.Dataset.map`: TFDS provide images of type `tf.uint8`, while the model expects `tf.float32`. Therefore, you need to normalize images.\n",
    "* `tf.data.Dataset.cache` As you fit the dataset in memory, cache it before shuffling for a better performance.<br/>\n",
    "__Note:__ Random transformations should be applied after caching.\n",
    "* `tf.data.Dataset.shuffle`: For true randomness, set the shuffle buffer to the full dataset size.<br/>\n",
    "__Note:__ For large datasets that can't fit in memory, use `buffer_size=1000` if your system allows it.\n",
    "* `tf.data.Dataset.batch`: Batch elements of the dataset after shuffling to get unique batches at each epoch.\n",
    "* `tf.data.Dataset.prefetch`: It is good practice to end the pipeline by prefetching [for performance](https://www.tensorflow.org/guide/data_performance#prefetching)."
   ]
  },
  {
   "cell_type": "code",
   "execution_count": 9,
   "metadata": {
    "id": "haykx2K9XgiI",
    "tags": []
   },
   "outputs": [],
   "source": [
    "def normalize_img(image):\n",
    "  \"\"\"Normalizes images: `uint8` -> `float32`.\"\"\"\n",
    "  return image / 255.\n",
    "\n",
    "train_imagesNorm = []\n",
    "\n",
    "for img in train_images:\n",
    "    train_imagesNorm.append(normalize_img(img))\n",
    "    \n",
    "validation_imagesNorm = []\n",
    "\n",
    "for img in validation_images:\n",
    "    validation_imagesNorm.append(normalize_img(img))\n",
    "    \n",
    "test_imagesNorm = []\n",
    "\n",
    "for img in test_images:\n",
    "    test_imagesNorm.append(normalize_img(img))"
   ]
  },
  {
   "cell_type": "code",
   "execution_count": 10,
   "metadata": {},
   "outputs": [
    {
     "name": "stdout",
     "output_type": "stream",
     "text": [
      "<class 'list'>\n",
      "<class 'numpy.ndarray'>\n",
      "<class 'list'>\n",
      "<class 'str'>\n"
     ]
    }
   ],
   "source": [
    "print(type(train_imagesNorm))\n",
    "\n",
    "for _ in train_imagesNorm:\n",
    "    print(type(_))\n",
    "    break\n",
    "\n",
    "print(type(train_labels))\n",
    "\n",
    "for _ in train_labels:\n",
    "    print(type(_))\n",
    "    break"
   ]
  },
  {
   "cell_type": "code",
   "execution_count": 11,
   "metadata": {},
   "outputs": [
    {
     "name": "stdout",
     "output_type": "stream",
     "text": [
      "(78960,)\n",
      "38\n"
     ]
    }
   ],
   "source": [
    "arr = np.array(train_labels)\n",
    "\n",
    "print(arr.shape)\n",
    "\n",
    "for a in arr :\n",
    "    print(a)\n",
    "    break"
   ]
  },
  {
   "cell_type": "code",
   "execution_count": 12,
   "metadata": {},
   "outputs": [
    {
     "name": "stdout",
     "output_type": "stream",
     "text": [
      "(78960, 28, 28)\n",
      "[[0.         0.         0.         0.         0.         0.\n",
      "  0.         0.         0.         0.         0.         0.\n",
      "  0.         0.         0.         0.         0.         0.\n",
      "  0.         0.         0.         0.         0.         0.\n",
      "  0.         0.         0.         0.        ]\n",
      " [0.         0.         0.         0.         0.         0.\n",
      "  0.         0.         0.         0.         0.         0.\n",
      "  0.         0.         0.         0.         0.         0.\n",
      "  0.         0.         0.         0.         0.         0.\n",
      "  0.         0.         0.         0.        ]\n",
      " [0.         0.         0.         0.         0.         0.\n",
      "  0.         0.         0.         0.         0.         0.\n",
      "  0.         0.         0.         0.         0.         0.\n",
      "  0.         0.         0.         0.         0.         0.\n",
      "  0.         0.         0.         0.        ]\n",
      " [0.         0.         0.         0.         0.         0.\n",
      "  0.         0.         0.         0.         0.         0.\n",
      "  0.         0.         0.         0.         0.         0.\n",
      "  0.         0.         0.         0.         0.         0.\n",
      "  0.         0.         0.         0.        ]\n",
      " [0.         0.         0.         0.         0.         0.\n",
      "  0.         0.         0.         0.         0.         0.\n",
      "  0.         0.         0.         0.         0.         0.\n",
      "  0.         0.         0.         0.         0.         0.\n",
      "  0.         0.         0.         0.        ]\n",
      " [0.         0.         0.         0.         0.         0.\n",
      "  0.         0.         0.         0.         0.         0.\n",
      "  0.         0.         0.         0.         0.         0.\n",
      "  0.         0.         0.         0.         0.         0.\n",
      "  0.         0.         0.         0.        ]\n",
      " [0.         0.         0.         0.         0.         0.\n",
      "  0.         0.         0.         0.         0.         0.\n",
      "  0.         0.         0.         0.         0.         0.\n",
      "  0.         0.         0.         0.         0.         0.\n",
      "  0.         0.         0.         0.        ]\n",
      " [0.         0.         0.         0.         0.         0.\n",
      "  0.         0.         0.         0.         0.         0.\n",
      "  0.         0.         0.         0.         0.         0.\n",
      "  0.         0.01568628 0.01568628 0.         0.         0.\n",
      "  0.         0.         0.         0.        ]\n",
      " [0.         0.         0.         0.         0.         0.\n",
      "  0.         0.         0.         0.         0.         0.\n",
      "  0.         0.         0.         0.         0.         0.01176471\n",
      "  0.30980393 0.79607844 0.7921569  0.13725491 0.         0.\n",
      "  0.         0.         0.         0.        ]\n",
      " [0.         0.         0.         0.         0.         0.\n",
      "  0.         0.         0.         0.         0.         0.\n",
      "  0.         0.         0.         0.         0.01568628 0.6039216\n",
      "  0.96862745 0.99607843 0.99607843 0.8117647  0.03137255 0.\n",
      "  0.         0.         0.         0.        ]\n",
      " [0.         0.         0.         0.         0.         0.\n",
      "  0.         0.         0.         0.         0.         0.\n",
      "  0.         0.         0.         0.00392157 0.48235294 0.9764706\n",
      "  0.9882353  0.9882353  0.99607843 0.9764706  0.14509805 0.\n",
      "  0.         0.         0.         0.        ]\n",
      " [0.         0.         0.         0.         0.         0.\n",
      "  0.         0.         0.         0.         0.         0.\n",
      "  0.         0.         0.         0.18431373 0.95686275 0.99215686\n",
      "  0.5176471  0.57254905 0.9843137  0.98039216 0.14509805 0.\n",
      "  0.         0.         0.         0.        ]\n",
      " [0.         0.         0.         0.         0.         0.\n",
      "  0.         0.         0.         0.         0.         0.\n",
      "  0.         0.         0.00784314 0.62352943 0.99607843 0.9098039\n",
      "  0.13333334 0.49803922 0.98039216 0.9764706  0.14509805 0.\n",
      "  0.         0.         0.         0.        ]\n",
      " [0.         0.         0.         0.         0.         0.\n",
      "  0.         0.         0.         0.         0.         0.\n",
      "  0.         0.00784314 0.25882354 0.92156863 0.99607843 0.49803922\n",
      "  0.00392157 0.5058824  0.98039216 0.87058824 0.03529412 0.\n",
      "  0.         0.         0.         0.        ]\n",
      " [0.         0.         0.         0.         0.         0.\n",
      "  0.         0.         0.         0.         0.         0.\n",
      "  0.         0.08627451 0.6745098  0.99607843 0.9137255  0.08627451\n",
      "  0.01568628 0.8        0.99607843 0.79607844 0.01568628 0.\n",
      "  0.         0.         0.         0.        ]\n",
      " [0.         0.         0.         0.         0.         0.\n",
      "  0.         0.         0.         0.         0.         0.\n",
      "  0.         0.44705883 0.9607843  0.99607843 0.68235296 0.00784314\n",
      "  0.12941177 0.9607843  0.9882353  0.32941177 0.         0.\n",
      "  0.         0.         0.         0.        ]\n",
      " [0.         0.         0.01568628 0.03529412 0.1254902  0.00392157\n",
      "  0.         0.         0.         0.         0.00784314 0.01568628\n",
      "  0.01568628 0.5058824  0.98039216 0.99607843 0.7019608  0.15294118\n",
      "  0.27058825 0.98039216 0.98039216 0.16862746 0.01568628 0.\n",
      "  0.         0.         0.         0.        ]\n",
      " [0.         0.05490196 0.70980394 0.85882354 0.9529412  0.5529412\n",
      "  0.49803922 0.49803922 0.49803922 0.49803922 0.6745098  0.8509804\n",
      "  0.8509804  0.9254902  0.99607843 1.         0.99607843 0.98039216\n",
      "  0.9843137  0.99607843 0.99607843 0.87058824 0.79607844 0.5058824\n",
      "  0.32156864 0.13333334 0.00392157 0.        ]\n",
      " [0.         0.         0.08627451 0.37254903 0.84313726 0.8509804\n",
      "  0.9607843  0.98039216 0.98039216 0.98039216 0.98039216 0.98039216\n",
      "  0.98039216 0.98039216 0.9607843  0.8509804  0.8509804  0.87058824\n",
      "  0.99215686 0.87058824 0.8509804  0.8509804  0.8509804  0.8509804\n",
      "  0.8392157  0.8        0.10588235 0.        ]\n",
      " [0.         0.         0.         0.         0.01568628 0.01960784\n",
      "  0.1254902  0.14509805 0.14509805 0.14509805 0.14509805 0.14509805\n",
      "  0.14509805 0.14509805 0.1254902  0.01960784 0.01568628 0.15686275\n",
      "  0.74509805 0.04705882 0.01568628 0.01568628 0.01568628 0.01568628\n",
      "  0.01568628 0.01568628 0.         0.        ]\n",
      " [0.         0.         0.         0.         0.         0.\n",
      "  0.         0.         0.         0.         0.         0.\n",
      "  0.         0.         0.         0.         0.         0.01568628\n",
      "  0.03137255 0.         0.         0.         0.         0.\n",
      "  0.         0.         0.         0.        ]\n",
      " [0.         0.         0.         0.         0.         0.\n",
      "  0.         0.         0.         0.         0.         0.\n",
      "  0.         0.         0.         0.         0.         0.\n",
      "  0.         0.         0.         0.         0.         0.\n",
      "  0.         0.         0.         0.        ]\n",
      " [0.         0.         0.         0.         0.         0.\n",
      "  0.         0.         0.         0.         0.         0.\n",
      "  0.         0.         0.         0.         0.         0.\n",
      "  0.         0.         0.         0.         0.         0.\n",
      "  0.         0.         0.         0.        ]\n",
      " [0.         0.         0.         0.         0.         0.\n",
      "  0.         0.         0.         0.         0.         0.\n",
      "  0.         0.         0.         0.         0.         0.\n",
      "  0.         0.         0.         0.         0.         0.\n",
      "  0.         0.         0.         0.        ]\n",
      " [0.         0.         0.         0.         0.         0.\n",
      "  0.         0.         0.         0.         0.         0.\n",
      "  0.         0.         0.         0.         0.         0.\n",
      "  0.         0.         0.         0.         0.         0.\n",
      "  0.         0.         0.         0.        ]\n",
      " [0.         0.         0.         0.         0.         0.\n",
      "  0.         0.         0.         0.         0.         0.\n",
      "  0.         0.         0.         0.         0.         0.\n",
      "  0.         0.         0.         0.         0.         0.\n",
      "  0.         0.         0.         0.        ]\n",
      " [0.         0.         0.         0.         0.         0.\n",
      "  0.         0.         0.         0.         0.         0.\n",
      "  0.         0.         0.         0.         0.         0.\n",
      "  0.         0.         0.         0.         0.         0.\n",
      "  0.         0.         0.         0.        ]\n",
      " [0.         0.         0.         0.         0.         0.\n",
      "  0.         0.         0.         0.         0.         0.\n",
      "  0.         0.         0.         0.         0.         0.\n",
      "  0.         0.         0.         0.         0.         0.\n",
      "  0.         0.         0.         0.        ]]\n"
     ]
    }
   ],
   "source": [
    "arrImages = np.array(train_imagesNorm)\n",
    "\n",
    "print(arrImages.shape)\n",
    "\n",
    "for aImages in arrImages :\n",
    "    print(aImages)\n",
    "    break"
   ]
  },
  {
   "cell_type": "code",
   "execution_count": 13,
   "metadata": {},
   "outputs": [
    {
     "name": "stdout",
     "output_type": "stream",
     "text": [
      "(78960, 28, 28, 1)\n"
     ]
    }
   ],
   "source": [
    "print(np.resize(train_imagesNorm, (len(train_imagesNorm), 28, 28, 1)).shape)\n"
   ]
  },
  {
   "cell_type": "markdown",
   "metadata": {
    "id": "RbsMy4X1XVFv"
   },
   "source": [
    "### Build an evaluation pipeline\n",
    "\n",
    "Your testing pipeline is similar to the training pipeline with small differences:\n",
    "\n",
    " * You don't need to call `tf.data.Dataset.shuffle`.\n",
    " * Caching is done after batching because batches can be the same between epochs."
   ]
  },
  {
   "cell_type": "markdown",
   "metadata": {
    "id": "nTFoji3INMEM"
   },
   "source": [
    "## Step 2: Create and train the model\n",
    "\n",
    "Plug the TFDS input pipeline into a simple Keras model, compile the model, and train it."
   ]
  },
  {
   "cell_type": "code",
   "execution_count": 14,
   "metadata": {
    "id": "XWqxdmS1NLKA",
    "tags": []
   },
   "outputs": [
    {
     "name": "stderr",
     "output_type": "stream",
     "text": [
      "2022-09-02 15:43:10.554716: W tensorflow/stream_executor/platform/default/dso_loader.cc:64] Could not load dynamic library 'libcuda.so.1'; dlerror: libcuda.so.1: cannot open shared object file: No such file or directory\n",
      "2022-09-02 15:43:10.554948: W tensorflow/stream_executor/cuda/cuda_driver.cc:269] failed call to cuInit: UNKNOWN ERROR (303)\n",
      "2022-09-02 15:43:10.555003: I tensorflow/stream_executor/cuda/cuda_diagnostics.cc:156] kernel driver does not appear to be running on this host (VirtDebian): /proc/driver/nvidia/version does not exist\n",
      "2022-09-02 15:43:10.555282: I tensorflow/core/platform/cpu_feature_guard.cc:151] This TensorFlow binary is optimized with oneAPI Deep Neural Network Library (oneDNN) to use the following CPU instructions in performance-critical operations:  AVX2 FMA\n",
      "To enable them in other operations, rebuild TensorFlow with the appropriate compiler flags.\n"
     ]
    },
    {
     "name": "stdout",
     "output_type": "stream",
     "text": [
      "Epoch 1/30\n",
      "2464/2468 [============================>.] - ETA: 0s - loss: 1.1961 - sparse_categorical_accuracy: 0.6619"
     ]
    },
    {
     "name": "stderr",
     "output_type": "stream",
     "text": [
      "2022-09-02 15:43:41.481945: W tensorflow/python/util/util.cc:368] Sets are not currently considered sequences, but this may change in the future, so consider avoiding using them.\n"
     ]
    },
    {
     "name": "stdout",
     "output_type": "stream",
     "text": [
      "INFO:tensorflow:Assets written to: tfKerasCharsEMNISTSoftmaxBalanced/assets\n",
      "2468/2468 [==============================] - 31s 12ms/step - loss: 1.1955 - sparse_categorical_accuracy: 0.6621 - val_loss: 0.8495 - val_sparse_categorical_accuracy: 0.7519\n",
      "Epoch 2/30\n",
      "2467/2468 [============================>.] - ETA: 0s - loss: 0.7647 - sparse_categorical_accuracy: 0.7696INFO:tensorflow:Assets written to: tfKerasCharsEMNISTSoftmaxBalanced/assets\n",
      "2468/2468 [==============================] - 30s 12ms/step - loss: 0.7646 - sparse_categorical_accuracy: 0.7696 - val_loss: 0.7272 - val_sparse_categorical_accuracy: 0.7824\n",
      "Epoch 3/30\n",
      "2465/2468 [============================>.] - ETA: 0s - loss: 0.6519 - sparse_categorical_accuracy: 0.7977INFO:tensorflow:Assets written to: tfKerasCharsEMNISTSoftmaxBalanced/assets\n",
      "2468/2468 [==============================] - 29s 12ms/step - loss: 0.6520 - sparse_categorical_accuracy: 0.7976 - val_loss: 0.6851 - val_sparse_categorical_accuracy: 0.7931\n",
      "Epoch 4/30\n",
      "2464/2468 [============================>.] - ETA: 0s - loss: 0.6002 - sparse_categorical_accuracy: 0.8116INFO:tensorflow:Assets written to: tfKerasCharsEMNISTSoftmaxBalanced/assets\n",
      "2468/2468 [==============================] - 30s 12ms/step - loss: 0.6000 - sparse_categorical_accuracy: 0.8116 - val_loss: 0.6822 - val_sparse_categorical_accuracy: 0.7956\n",
      "Epoch 5/30\n",
      "2464/2468 [============================>.] - ETA: 0s - loss: 0.5700 - sparse_categorical_accuracy: 0.8222INFO:tensorflow:Assets written to: tfKerasCharsEMNISTSoftmaxBalanced/assets\n",
      "2468/2468 [==============================] - 31s 13ms/step - loss: 0.5697 - sparse_categorical_accuracy: 0.8222 - val_loss: 0.6723 - val_sparse_categorical_accuracy: 0.7970\n",
      "Epoch 6/30\n",
      "2466/2468 [============================>.] - ETA: 0s - loss: 0.5484 - sparse_categorical_accuracy: 0.8289INFO:tensorflow:Assets written to: tfKerasCharsEMNISTSoftmaxBalanced/assets\n",
      "2468/2468 [==============================] - 28s 11ms/step - loss: 0.5483 - sparse_categorical_accuracy: 0.8289 - val_loss: 0.6533 - val_sparse_categorical_accuracy: 0.8068\n",
      "Epoch 7/30\n",
      "2468/2468 [==============================] - 25s 10ms/step - loss: 0.5340 - sparse_categorical_accuracy: 0.8329 - val_loss: 0.6706 - val_sparse_categorical_accuracy: 0.8085\n",
      "Epoch 8/30\n",
      "2468/2468 [==============================] - 25s 10ms/step - loss: 0.5210 - sparse_categorical_accuracy: 0.8373 - val_loss: 0.6932 - val_sparse_categorical_accuracy: 0.8058\n",
      "Epoch 9/30\n",
      "2468/2468 [==============================] - 25s 10ms/step - loss: 0.5120 - sparse_categorical_accuracy: 0.8399 - val_loss: 0.7020 - val_sparse_categorical_accuracy: 0.8080\n",
      "Epoch 10/30\n",
      "2468/2468 [==============================] - 24s 10ms/step - loss: 0.5046 - sparse_categorical_accuracy: 0.8417 - val_loss: 0.6947 - val_sparse_categorical_accuracy: 0.8085\n",
      "Epoch 11/30\n",
      "2468/2468 [==============================] - 24s 10ms/step - loss: 0.4955 - sparse_categorical_accuracy: 0.8469 - val_loss: 0.7093 - val_sparse_categorical_accuracy: 0.8036\n",
      "Epoch 12/30\n",
      "2468/2468 [==============================] - 24s 10ms/step - loss: 0.4906 - sparse_categorical_accuracy: 0.8476 - val_loss: 0.7393 - val_sparse_categorical_accuracy: 0.8064\n",
      "Epoch 13/30\n",
      "2468/2468 [==============================] - 24s 10ms/step - loss: 0.4855 - sparse_categorical_accuracy: 0.8488 - val_loss: 0.7623 - val_sparse_categorical_accuracy: 0.8024\n",
      "Epoch 14/30\n",
      "2468/2468 [==============================] - 24s 10ms/step - loss: 0.4812 - sparse_categorical_accuracy: 0.8514 - val_loss: 0.7530 - val_sparse_categorical_accuracy: 0.8040\n",
      "Epoch 15/30\n",
      "2468/2468 [==============================] - 24s 10ms/step - loss: 0.4767 - sparse_categorical_accuracy: 0.8536 - val_loss: 0.7818 - val_sparse_categorical_accuracy: 0.8010\n",
      "Epoch 16/30\n",
      "2468/2468 [==============================] - 24s 10ms/step - loss: 0.4713 - sparse_categorical_accuracy: 0.8543 - val_loss: 0.7829 - val_sparse_categorical_accuracy: 0.7990\n",
      "Epoch 17/30\n",
      "2468/2468 [==============================] - 24s 10ms/step - loss: 0.4718 - sparse_categorical_accuracy: 0.8558 - val_loss: 0.8316 - val_sparse_categorical_accuracy: 0.8024\n",
      "Epoch 18/30\n",
      "2468/2468 [==============================] - 24s 10ms/step - loss: 0.4662 - sparse_categorical_accuracy: 0.8570 - val_loss: 0.8334 - val_sparse_categorical_accuracy: 0.8065\n",
      "Epoch 19/30\n",
      "2468/2468 [==============================] - 30s 12ms/step - loss: 0.4660 - sparse_categorical_accuracy: 0.8567 - val_loss: 0.8314 - val_sparse_categorical_accuracy: 0.7989\n",
      "Epoch 20/30\n",
      "2468/2468 [==============================] - 30s 12ms/step - loss: 0.4646 - sparse_categorical_accuracy: 0.8578 - val_loss: 0.8417 - val_sparse_categorical_accuracy: 0.7977\n",
      "Epoch 21/30\n",
      "2468/2468 [==============================] - 29s 12ms/step - loss: 0.4592 - sparse_categorical_accuracy: 0.8597 - val_loss: 0.8684 - val_sparse_categorical_accuracy: 0.8024\n",
      "Epoch 22/30\n",
      "2468/2468 [==============================] - 29s 12ms/step - loss: 0.4586 - sparse_categorical_accuracy: 0.8606 - val_loss: 0.8980 - val_sparse_categorical_accuracy: 0.7923\n",
      "Epoch 23/30\n",
      "2468/2468 [==============================] - 29s 12ms/step - loss: 0.4556 - sparse_categorical_accuracy: 0.8617 - val_loss: 0.8927 - val_sparse_categorical_accuracy: 0.8012\n",
      "Epoch 24/30\n",
      "2468/2468 [==============================] - 30s 12ms/step - loss: 0.4550 - sparse_categorical_accuracy: 0.8617 - val_loss: 0.9190 - val_sparse_categorical_accuracy: 0.7984\n",
      "Epoch 25/30\n",
      "2468/2468 [==============================] - 30s 12ms/step - loss: 0.4499 - sparse_categorical_accuracy: 0.8640 - val_loss: 0.9379 - val_sparse_categorical_accuracy: 0.7891\n",
      "Epoch 26/30\n",
      "2468/2468 [==============================] - 29s 12ms/step - loss: 0.4489 - sparse_categorical_accuracy: 0.8659 - val_loss: 0.9865 - val_sparse_categorical_accuracy: 0.7975\n",
      "Epoch 27/30\n",
      "2468/2468 [==============================] - 29s 12ms/step - loss: 0.4472 - sparse_categorical_accuracy: 0.8644 - val_loss: 0.9653 - val_sparse_categorical_accuracy: 0.7966\n",
      "Epoch 28/30\n",
      "2468/2468 [==============================] - 30s 12ms/step - loss: 0.4480 - sparse_categorical_accuracy: 0.8670 - val_loss: 0.9654 - val_sparse_categorical_accuracy: 0.7959\n",
      "Epoch 29/30\n",
      "2468/2468 [==============================] - 27s 11ms/step - loss: 0.4451 - sparse_categorical_accuracy: 0.8669 - val_loss: 1.0209 - val_sparse_categorical_accuracy: 0.7922\n",
      "Epoch 30/30\n",
      "2468/2468 [==============================] - 27s 11ms/step - loss: 0.4426 - sparse_categorical_accuracy: 0.8675 - val_loss: 1.0262 - val_sparse_categorical_accuracy: 0.7946\n"
     ]
    },
    {
     "data": {
      "text/plain": [
       "<keras.callbacks.History at 0x7f9cbc918fa0>"
      ]
     },
     "execution_count": 14,
     "metadata": {},
     "output_type": "execute_result"
    }
   ],
   "source": [
    "model = tf.keras.models.Sequential([\n",
    "  tf.keras.layers.Flatten(input_shape=(28, 28)),\n",
    "  tf.keras.layers.Dense(128, activation='relu'),\n",
    "  tf.keras.layers.Dense(62, \"softmax\")\n",
    "])\n",
    "\n",
    "model.compile(\n",
    "    optimizer=tf.keras.optimizers.RMSprop(),\n",
    "    #optimizer=tf.keras.optimizers.Adam(0.001),\n",
    "    #loss=tf.keras.losses.SparseCategoricalCrossentropy(from_logits=True),\n",
    "    loss=tf.keras.losses.SparseCategoricalCrossentropy(),\n",
    "    metrics=[tf.keras.metrics.SparseCategoricalAccuracy()],\n",
    ")\n",
    "\n",
    "model.fit(\n",
    "    x = np.resize(train_imagesNorm, (len(train_imagesNorm), 28, 28, 1)),\n",
    "    y = np.array(train_labels).astype(np.float32),\n",
    "    epochs=30,\n",
    "    validation_data=(\n",
    "        np.resize(validation_imagesNorm, (len(validation_imagesNorm), 28, 28, 1)), \n",
    "        np.array(validation_labels).astype(np.float32)),\n",
    "    callbacks=[tf.keras.callbacks.ModelCheckpoint(filepath='tfKerasCharsEMNISTSoftmaxBalanced', save_best_only=True, monitor=\"val_loss\"),\n",
    "               tf.keras.callbacks.EarlyStopping(monitor='val_loss', patience=30, restore_best_weights=True)]\n",
    ")"
   ]
  },
  {
   "cell_type": "code",
   "execution_count": 19,
   "metadata": {},
   "outputs": [
    {
     "name": "stderr",
     "output_type": "stream",
     "text": [
      "2022-09-02 19:37:30.803392: W tensorflow/compiler/mlir/lite/python/tf_tfl_flatbuffer_helpers.cc:357] Ignored output_format.\n",
      "2022-09-02 19:37:30.803545: W tensorflow/compiler/mlir/lite/python/tf_tfl_flatbuffer_helpers.cc:360] Ignored drop_control_dependency.\n",
      "WARNING:absl:Buffer deduplication procedure will be skipped when flatbuffer library is not properly loaded\n",
      "2022-09-02 19:37:30.803777: I tensorflow/cc/saved_model/reader.cc:43] Reading SavedModel from: tfKerasCharsEMNISTSoftmaxBalanced\n",
      "2022-09-02 19:37:30.810586: I tensorflow/cc/saved_model/reader.cc:78] Reading meta graph with tags { serve }\n",
      "2022-09-02 19:37:30.810628: I tensorflow/cc/saved_model/reader.cc:119] Reading SavedModel debug info (if present) from: tfKerasCharsEMNISTSoftmaxBalanced\n",
      "2022-09-02 19:37:30.827475: I tensorflow/cc/saved_model/loader.cc:228] Restoring SavedModel bundle.\n",
      "2022-09-02 19:37:30.946210: I tensorflow/cc/saved_model/loader.cc:212] Running initialization op on SavedModel bundle at path: tfKerasCharsEMNISTSoftmaxBalanced\n",
      "2022-09-02 19:37:30.999490: I tensorflow/cc/saved_model/loader.cc:301] SavedModel load for tags { serve }; Status: success: OK. Took 195714 microseconds.\n"
     ]
    }
   ],
   "source": [
    "converter = tf.lite.TFLiteConverter.from_saved_model('tfKerasCharsEMNISTSoftmaxBalanced')\n",
    "tflite_model = converter.convert()\n",
    "\n",
    "with open(\"tfKerasCharsEMNISTSoftmaxBalanced.tflite\", \"wb\") as fp:\n",
    "    fp.write(tflite_model)"
   ]
  },
  {
   "cell_type": "code",
   "execution_count": 16,
   "metadata": {},
   "outputs": [
    {
     "name": "stdout",
     "output_type": "stream",
     "text": [
      "Model: \"sequential\"\n",
      "_________________________________________________________________\n",
      " Layer (type)                Output Shape              Param #   \n",
      "=================================================================\n",
      " flatten (Flatten)           (None, 784)               0         \n",
      "                                                                 \n",
      " dense (Dense)               (None, 128)               100480    \n",
      "                                                                 \n",
      " dense_1 (Dense)             (None, 62)                7998      \n",
      "                                                                 \n",
      "=================================================================\n",
      "Total params: 108,478\n",
      "Trainable params: 108,478\n",
      "Non-trainable params: 0\n",
      "_________________________________________________________________\n",
      "Ergebnis Shape (1, 62)\n",
      "Zeichen unmapped 38 Zeichen mapped c Ergebnis 0.81038094\n"
     ]
    },
    {
     "data": {
      "image/png": "[encoded data removed]",
      "text/plain": [
       "<Figure size 432x288 with 1 Axes>"
      ]
     },
     "metadata": {
      "needs_background": "light"
     },
     "output_type": "display_data"
    },
    {
     "name": "stdout",
     "output_type": "stream",
     "text": [
      "Ergebnis Shape (1, 62)\n",
      "Zeichen unmapped 40 Zeichen mapped e Ergebnis 0.5158425\n"
     ]
    },
    {
     "data": {
      "image/png": "[encoded data removed]",
      "text/plain": [
       "<Figure size 432x288 with 1 Axes>"
      ]
     },
     "metadata": {
      "needs_background": "light"
     },
     "output_type": "display_data"
    },
    {
     "name": "stdout",
     "output_type": "stream",
     "text": [
      "Ergebnis Shape (1, 62)\n",
      "Zeichen unmapped 3 Zeichen mapped 3 Ergebnis 0.9997142\n"
     ]
    },
    {
     "data": {
      "image/png": "[encoded data removed]",
      "text/plain": [
       "<Figure size 432x288 with 1 Axes>"
      ]
     },
     "metadata": {
      "needs_background": "light"
     },
     "output_type": "display_data"
    },
    {
     "name": "stdout",
     "output_type": "stream",
     "text": [
      "Ergebnis Shape (1, 62)\n",
      "Zeichen unmapped 14 Zeichen mapped E Ergebnis 0.77646893\n"
     ]
    },
    {
     "data": {
      "image/png": "[encoded data removed]",
      "text/plain": [
       "<Figure size 432x288 with 1 Axes>"
      ]
     },
     "metadata": {
      "needs_background": "light"
     },
     "output_type": "display_data"
    },
    {
     "name": "stdout",
     "output_type": "stream",
     "text": [
      "Ergebnis Shape (1, 62)\n",
      "Zeichen unmapped 9 Zeichen mapped 9 Ergebnis 0.46727777\n"
     ]
    },
    {
     "data": {
      "image/png": "[encoded data removed]",
      "text/plain": [
       "<Figure size 432x288 with 1 Axes>"
      ]
     },
     "metadata": {
      "needs_background": "light"
     },
     "output_type": "display_data"
    },
    {
     "name": "stdout",
     "output_type": "stream",
     "text": [
      "Ergebnis Shape (1, 62)\n",
      "Zeichen unmapped 37 Zeichen mapped b Ergebnis 0.87404543\n"
     ]
    },
    {
     "data": {
      "image/png": "[encoded data removed]",
      "text/plain": [
       "<Figure size 432x288 with 1 Axes>"
      ]
     },
     "metadata": {
      "needs_background": "light"
     },
     "output_type": "display_data"
    },
    {
     "name": "stdout",
     "output_type": "stream",
     "text": [
      "Ergebnis Shape (1, 62)\n",
      "Zeichen unmapped 32 Zeichen mapped W Ergebnis 0.99507517\n"
     ]
    },
    {
     "data": {
      "image/png": "[encoded data removed]",
      "text/plain": [
       "<Figure size 432x288 with 1 Axes>"
      ]
     },
     "metadata": {
      "needs_background": "light"
     },
     "output_type": "display_data"
    },
    {
     "name": "stdout",
     "output_type": "stream",
     "text": [
      "Ergebnis Shape (1, 62)\n",
      "Zeichen unmapped 32 Zeichen mapped W Ergebnis 0.99998045\n"
     ]
    },
    {
     "data": {
      "image/png": "[encoded data removed]",
      "text/plain": [
       "<Figure size 432x288 with 1 Axes>"
      ]
     },
     "metadata": {
      "needs_background": "light"
     },
     "output_type": "display_data"
    },
    {
     "name": "stdout",
     "output_type": "stream",
     "text": [
      "Ergebnis Shape (1, 62)\n",
      "Zeichen unmapped 31 Zeichen mapped V Ergebnis 0.9951298\n"
     ]
    },
    {
     "data": {
      "image/png": "[encoded data removed]",
      "text/plain": [
       "<Figure size 432x288 with 1 Axes>"
      ]
     },
     "metadata": {
      "needs_background": "light"
     },
     "output_type": "display_data"
    },
    {
     "name": "stdout",
     "output_type": "stream",
     "text": [
      "Ergebnis Shape (1, 62)\n",
      "Zeichen unmapped 26 Zeichen mapped Q Ergebnis 0.93745345\n"
     ]
    },
    {
     "data": {
      "image/png": "[encoded data removed]",
      "text/plain": [
       "<Figure size 432x288 with 1 Axes>"
      ]
     },
     "metadata": {
      "needs_background": "light"
     },
     "output_type": "display_data"
    },
    {
     "name": "stdout",
     "output_type": "stream",
     "text": [
      "Ergebnis Shape (1, 62)\n",
      "Zeichen unmapped 38 Zeichen mapped c Ergebnis 0.99810934\n"
     ]
    },
    {
     "data": {
      "image/png": "[encoded data removed]",
      "text/plain": [
       "<Figure size 432x288 with 1 Axes>"
      ]
     },
     "metadata": {
      "needs_background": "light"
     },
     "output_type": "display_data"
    }
   ],
   "source": [
    "import numpy as np\n",
    "import tensorflow as tf\n",
    "\n",
    "charList = ['0','1','2','3','4','5','6','7','8','9',\n",
    "'A','B','C','D','E','F','G','H','I','J','K','L','M','N','O','P','Q','R','S','T','U','V','W','X','Y','Z',\n",
    "'a','b','c','d','e','f','g','h','i','j','k','l','m','n','o','p','q','r','s','t','u','v','w','x','y','z']\n",
    "\n",
    "model = tf.keras.models.load_model('tfKerasCharsEMNISTSoftmaxBalanced')\n",
    "model.summary()\n",
    "\n",
    "i = 0\n",
    "\n",
    "for test in train_imagesNorm:\n",
    "    ele = np.resize(test,(1,28,28,1))\n",
    "    erg = model.predict(ele)\n",
    "    print(\"Ergebnis Shape\", erg.shape)\n",
    "    print(\"Zeichen unmapped\", np.argmax(erg), \"Zeichen mapped\", charList[np.argmax(erg)], \"Ergebnis\", erg[0][np.argmax(erg)])\n",
    "    plt.imshow(ele[0], cmap='gray') #Bilder sind gedreht und gespiegelt\n",
    "    plt.show()\n",
    "    i += 1\n",
    "    if i > 10:\n",
    "        break\n",
    "    "
   ]
  },
  {
   "cell_type": "code",
   "execution_count": 17,
   "metadata": {},
   "outputs": [
    {
     "name": "stdout",
     "output_type": "stream",
     "text": [
      "Model: \"sequential\"\n",
      "_________________________________________________________________\n",
      " Layer (type)                Output Shape              Param #   \n",
      "=================================================================\n",
      " flatten (Flatten)           (None, 784)               0         \n",
      "                                                                 \n",
      " dense (Dense)               (None, 128)               100480    \n",
      "                                                                 \n",
      " dense_1 (Dense)             (None, 62)                7998      \n",
      "                                                                 \n",
      "=================================================================\n",
      "Total params: 108,478\n",
      "Trainable params: 108,478\n",
      "Non-trainable params: 0\n",
      "_________________________________________________________________\n",
      "(1, 28, 28)\n",
      "[[2.3752152e-28 0.0000000e+00 5.6849551e-26 0.0000000e+00 0.0000000e+00\n",
      "  7.5360146e-29 0.0000000e+00 8.4761277e-31 8.5522874e-32 0.0000000e+00\n",
      "  3.3028429e-23 2.4478348e-08 7.9497237e-22 5.2501094e-03 5.8237984e-23\n",
      "  7.9060690e-18 3.0246682e-23 3.0171406e-17 1.8450321e-38 1.9052502e-14\n",
      "  2.6168266e-13 1.0913984e-25 1.1374218e-20 5.8221802e-22 4.8250529e-26\n",
      "  5.9802509e-20 9.9458790e-01 3.4789915e-10 0.0000000e+00 2.0492110e-22\n",
      "  1.1116234e-22 7.2012129e-28 2.8774755e-07 1.1260191e-37 8.2571302e-24\n",
      "  1.6174544e-04 9.3556596e-32 0.0000000e+00 2.3727582e-38 0.0000000e+00\n",
      "  8.0108250e-21 1.0647295e-19 5.7842333e-38 5.6297825e-30 2.6073733e-26\n",
      "  0.0000000e+00 8.0691078e-26 0.0000000e+00 0.0000000e+00 0.0000000e+00\n",
      "  0.0000000e+00 0.0000000e+00 0.0000000e+00 0.0000000e+00 0.0000000e+00\n",
      "  0.0000000e+00 0.0000000e+00 0.0000000e+00 0.0000000e+00 0.0000000e+00\n",
      "  0.0000000e+00 0.0000000e+00]]\n"
     ]
    }
   ],
   "source": [
    "import numpy as np\n",
    "import tensorflow as tf\n",
    "\n",
    "model = tf.keras.models.load_model('tfKerasCharsEMNISTSoftmaxBalanced')\n",
    "model.summary()\n",
    "\n",
    "data = np.random.randint(0, 255, (1, 28, 28))/255\n",
    "\n",
    "print(data.shape)\n",
    "#print(data[1][1])\n",
    "\n",
    "erg = model.predict(data)\n",
    "#print(np.argmax(erg))\n",
    "print(erg)"
   ]
  },
  {
   "cell_type": "code",
   "execution_count": 20,
   "metadata": {},
   "outputs": [
    {
     "name": "stdout",
     "output_type": "stream",
     "text": [
      "[[2.37514396e-28 0.00000000e+00 5.68426359e-26 0.00000000e+00\n",
      "  0.00000000e+00 7.53509919e-29 0.00000000e+00 8.47483843e-31\n",
      "  8.55150746e-32 0.00000000e+00 3.30264254e-23 2.44746232e-08\n",
      "  7.94948438e-22 5.24963159e-03 5.82362301e-23 7.90559011e-18\n",
      "  3.02485369e-23 3.01677335e-17 2.33826603e-38 1.90507688e-14\n",
      "  2.61650808e-13 1.09133224e-25 1.13735274e-20 5.82147188e-22\n",
      "  4.82402495e-26 5.98007122e-20 9.94588375e-01 3.47856910e-10\n",
      "  0.00000000e+00 2.04908677e-22 1.11148823e-22 7.20099621e-28\n",
      "  2.87703756e-07 1.12577897e-37 8.25637837e-24 1.61760341e-04\n",
      "  9.35480798e-32 0.00000000e+00 2.33826603e-38 0.00000000e+00\n",
      "  8.01009474e-21 1.06466501e-19 4.67653207e-38 5.62875408e-30\n",
      "  2.60729468e-26 0.00000000e+00 8.06837258e-26 0.00000000e+00\n",
      "  0.00000000e+00 0.00000000e+00 0.00000000e+00 0.00000000e+00\n",
      "  0.00000000e+00 0.00000000e+00 0.00000000e+00 0.00000000e+00\n",
      "  0.00000000e+00 0.00000000e+00 0.00000000e+00 0.00000000e+00\n",
      "  0.00000000e+00 0.00000000e+00]]\n"
     ]
    },
    {
     "name": "stderr",
     "output_type": "stream",
     "text": [
      "INFO: Created TensorFlow Lite XNNPACK delegate for CPU.\n"
     ]
    }
   ],
   "source": [
    "import numpy as np\n",
    "\n",
    "interpreter = tf.lite.Interpreter(model_path=\"tfKerasCharsEMNISTSoftmaxBalanced.tflite\")\n",
    "interpreter.allocate_tensors()\n",
    "input_details = interpreter.get_input_details()\n",
    "output_details = interpreter.get_output_details()\n",
    "\n",
    "interpreter.set_tensor(input_details[0]['index'], data.astype(np.float32))\n",
    "interpreter.invoke()\n",
    "output_data = interpreter.get_tensor(output_details[0]['index'])\n",
    "print(output_data)"
   ]
  }
 ],
 "metadata": {
  "colab": {
   "collapsed_sections": [],
   "name": "tensorflow/datasets",
   "private_outputs": true,
   "provenance": [],
   "toc_visible": true
  },
  "kernelspec": {
   "display_name": "Python 3 (ipykernel)",
   "language": "python",
   "name": "python3"
  },
  "language_info": {
   "codemirror_mode": {
    "name": "ipython",
    "version": 3
   },
   "file_extension": ".py",
   "mimetype": "text/x-python",
   "name": "python",
   "nbconvert_exporter": "python",
   "pygments_lexer": "ipython3",
   "version": "3.9.2"
  }
 },
 "nbformat": 4,
 "nbformat_minor": 4
}
